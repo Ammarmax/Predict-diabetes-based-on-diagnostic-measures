{
 "cells": [
  {
   "cell_type": "code",
   "execution_count": 1,
   "id": "raised-engineer",
   "metadata": {
    "execution": {
     "iopub.execute_input": "2021-06-20T16:41:50.139967Z",
     "iopub.status.busy": "2021-06-20T16:41:50.128733Z",
     "iopub.status.idle": "2021-06-20T16:41:58.453210Z",
     "shell.execute_reply": "2021-06-20T16:41:58.452408Z",
     "shell.execute_reply.started": "2021-06-20T16:41:07.849117Z"
    },
    "papermill": {
     "duration": 8.355131,
     "end_time": "2021-06-20T16:41:58.453384",
     "exception": false,
     "start_time": "2021-06-20T16:41:50.098253",
     "status": "completed"
    },
    "tags": []
   },
   "outputs": [],
   "source": [
    "import os\n",
    "import numpy as np\n",
    "import pandas as pd\n",
    "import random\n",
    "import matplotlib.pyplot as plt\n",
    "import seaborn as sns\n",
    "\n",
    "from contextlib import contextmanager\n",
    "from time import time\n",
    "from tqdm import tqdm\n",
    "import lightgbm as lgbm\n",
    "import category_encoders as ce\n",
    "\n",
    "from tensorflow.keras.utils import to_categorical\n",
    "from sklearn.metrics import classification_report, log_loss, accuracy_score\n",
    "from sklearn.metrics import mean_squared_error\n",
    "from sklearn.model_selection import KFold"
   ]
  },
  {
   "cell_type": "markdown",
   "id": "stunning-catch",
   "metadata": {
    "papermill": {
     "duration": 0.02261,
     "end_time": "2021-06-20T16:41:58.499236",
     "exception": false,
     "start_time": "2021-06-20T16:41:58.476626",
     "status": "completed"
    },
    "tags": []
   },
   "source": [
    "# Data preparation"
   ]
  },
  {
   "cell_type": "code",
   "execution_count": 2,
   "id": "elder-aspect",
   "metadata": {
    "execution": {
     "iopub.execute_input": "2021-06-20T16:41:58.550096Z",
     "iopub.status.busy": "2021-06-20T16:41:58.549492Z",
     "iopub.status.idle": "2021-06-20T16:41:58.589742Z",
     "shell.execute_reply": "2021-06-20T16:41:58.589167Z",
     "shell.execute_reply.started": "2021-06-20T16:41:07.857368Z"
    },
    "papermill": {
     "duration": 0.067377,
     "end_time": "2021-06-20T16:41:58.589890",
     "exception": false,
     "start_time": "2021-06-20T16:41:58.522513",
     "status": "completed"
    },
    "tags": []
   },
   "outputs": [
    {
     "data": {
      "text/html": [
       "<div>\n",
       "<style scoped>\n",
       "    .dataframe tbody tr th:only-of-type {\n",
       "        vertical-align: middle;\n",
       "    }\n",
       "\n",
       "    .dataframe tbody tr th {\n",
       "        vertical-align: top;\n",
       "    }\n",
       "\n",
       "    .dataframe thead th {\n",
       "        text-align: right;\n",
       "    }\n",
       "</style>\n",
       "<table border=\"1\" class=\"dataframe\">\n",
       "  <thead>\n",
       "    <tr style=\"text-align: right;\">\n",
       "      <th></th>\n",
       "      <th>0</th>\n",
       "      <th>1</th>\n",
       "      <th>2</th>\n",
       "      <th>3</th>\n",
       "      <th>4</th>\n",
       "    </tr>\n",
       "  </thead>\n",
       "  <tbody>\n",
       "    <tr>\n",
       "      <th>patient_number</th>\n",
       "      <td>1</td>\n",
       "      <td>2</td>\n",
       "      <td>3</td>\n",
       "      <td>4</td>\n",
       "      <td>5</td>\n",
       "    </tr>\n",
       "    <tr>\n",
       "      <th>cholesterol</th>\n",
       "      <td>193</td>\n",
       "      <td>146</td>\n",
       "      <td>217</td>\n",
       "      <td>226</td>\n",
       "      <td>164</td>\n",
       "    </tr>\n",
       "    <tr>\n",
       "      <th>glucose</th>\n",
       "      <td>77</td>\n",
       "      <td>79</td>\n",
       "      <td>75</td>\n",
       "      <td>97</td>\n",
       "      <td>91</td>\n",
       "    </tr>\n",
       "    <tr>\n",
       "      <th>hdl_chol</th>\n",
       "      <td>49</td>\n",
       "      <td>41</td>\n",
       "      <td>54</td>\n",
       "      <td>70</td>\n",
       "      <td>67</td>\n",
       "    </tr>\n",
       "    <tr>\n",
       "      <th>chol_hdl_ratio</th>\n",
       "      <td>3,9</td>\n",
       "      <td>3,6</td>\n",
       "      <td>4</td>\n",
       "      <td>3,2</td>\n",
       "      <td>2,4</td>\n",
       "    </tr>\n",
       "    <tr>\n",
       "      <th>age</th>\n",
       "      <td>19</td>\n",
       "      <td>19</td>\n",
       "      <td>20</td>\n",
       "      <td>20</td>\n",
       "      <td>20</td>\n",
       "    </tr>\n",
       "    <tr>\n",
       "      <th>gender</th>\n",
       "      <td>female</td>\n",
       "      <td>female</td>\n",
       "      <td>female</td>\n",
       "      <td>female</td>\n",
       "      <td>female</td>\n",
       "    </tr>\n",
       "    <tr>\n",
       "      <th>height</th>\n",
       "      <td>61</td>\n",
       "      <td>60</td>\n",
       "      <td>67</td>\n",
       "      <td>64</td>\n",
       "      <td>70</td>\n",
       "    </tr>\n",
       "    <tr>\n",
       "      <th>weight</th>\n",
       "      <td>119</td>\n",
       "      <td>135</td>\n",
       "      <td>187</td>\n",
       "      <td>114</td>\n",
       "      <td>141</td>\n",
       "    </tr>\n",
       "    <tr>\n",
       "      <th>bmi</th>\n",
       "      <td>22,5</td>\n",
       "      <td>26,4</td>\n",
       "      <td>29,3</td>\n",
       "      <td>19,6</td>\n",
       "      <td>20,2</td>\n",
       "    </tr>\n",
       "    <tr>\n",
       "      <th>systolic_bp</th>\n",
       "      <td>118</td>\n",
       "      <td>108</td>\n",
       "      <td>110</td>\n",
       "      <td>122</td>\n",
       "      <td>122</td>\n",
       "    </tr>\n",
       "    <tr>\n",
       "      <th>diastolic_bp</th>\n",
       "      <td>70</td>\n",
       "      <td>58</td>\n",
       "      <td>72</td>\n",
       "      <td>64</td>\n",
       "      <td>86</td>\n",
       "    </tr>\n",
       "    <tr>\n",
       "      <th>waist</th>\n",
       "      <td>32</td>\n",
       "      <td>33</td>\n",
       "      <td>40</td>\n",
       "      <td>31</td>\n",
       "      <td>32</td>\n",
       "    </tr>\n",
       "    <tr>\n",
       "      <th>hip</th>\n",
       "      <td>38</td>\n",
       "      <td>40</td>\n",
       "      <td>45</td>\n",
       "      <td>39</td>\n",
       "      <td>39</td>\n",
       "    </tr>\n",
       "    <tr>\n",
       "      <th>waist_hip_ratio</th>\n",
       "      <td>0,84</td>\n",
       "      <td>0,83</td>\n",
       "      <td>0,89</td>\n",
       "      <td>0,79</td>\n",
       "      <td>0,82</td>\n",
       "    </tr>\n",
       "    <tr>\n",
       "      <th>diabetes</th>\n",
       "      <td>No diabetes</td>\n",
       "      <td>No diabetes</td>\n",
       "      <td>No diabetes</td>\n",
       "      <td>No diabetes</td>\n",
       "      <td>No diabetes</td>\n",
       "    </tr>\n",
       "  </tbody>\n",
       "</table>\n",
       "</div>"
      ],
      "text/plain": [
       "                           0            1            2            3  \\\n",
       "patient_number             1            2            3            4   \n",
       "cholesterol              193          146          217          226   \n",
       "glucose                   77           79           75           97   \n",
       "hdl_chol                  49           41           54           70   \n",
       "chol_hdl_ratio           3,9          3,6            4          3,2   \n",
       "age                       19           19           20           20   \n",
       "gender                female       female       female       female   \n",
       "height                    61           60           67           64   \n",
       "weight                   119          135          187          114   \n",
       "bmi                     22,5         26,4         29,3         19,6   \n",
       "systolic_bp              118          108          110          122   \n",
       "diastolic_bp              70           58           72           64   \n",
       "waist                     32           33           40           31   \n",
       "hip                       38           40           45           39   \n",
       "waist_hip_ratio         0,84         0,83         0,89         0,79   \n",
       "diabetes         No diabetes  No diabetes  No diabetes  No diabetes   \n",
       "\n",
       "                           4  \n",
       "patient_number             5  \n",
       "cholesterol              164  \n",
       "glucose                   91  \n",
       "hdl_chol                  67  \n",
       "chol_hdl_ratio           2,4  \n",
       "age                       20  \n",
       "gender                female  \n",
       "height                    70  \n",
       "weight                   141  \n",
       "bmi                     20,2  \n",
       "systolic_bp              122  \n",
       "diastolic_bp              86  \n",
       "waist                     32  \n",
       "hip                       39  \n",
       "waist_hip_ratio         0,82  \n",
       "diabetes         No diabetes  "
      ]
     },
     "execution_count": 2,
     "metadata": {},
     "output_type": "execute_result"
    }
   ],
   "source": [
    "data0 = pd.read_csv(\"/Users/ammar/Documents/diabetes.csv\")\n",
    "data0[0:5].T"
   ]
  },
  {
   "cell_type": "code",
   "execution_count": 3,
   "id": "sharing-packet",
   "metadata": {
    "execution": {
     "iopub.execute_input": "2021-06-20T16:41:58.644356Z",
     "iopub.status.busy": "2021-06-20T16:41:58.643482Z",
     "iopub.status.idle": "2021-06-20T16:41:58.647763Z",
     "shell.execute_reply": "2021-06-20T16:41:58.647201Z",
     "shell.execute_reply.started": "2021-06-20T16:41:07.898984Z"
    },
    "papermill": {
     "duration": 0.033455,
     "end_time": "2021-06-20T16:41:58.647908",
     "exception": false,
     "start_time": "2021-06-20T16:41:58.614453",
     "status": "completed"
    },
    "tags": []
   },
   "outputs": [
    {
     "data": {
      "text/plain": [
       "Index(['patient_number', 'cholesterol', 'glucose', 'hdl_chol',\n",
       "       'chol_hdl_ratio', 'age', 'gender', 'height', 'weight', 'bmi',\n",
       "       'systolic_bp', 'diastolic_bp', 'waist', 'hip', 'waist_hip_ratio',\n",
       "       'diabetes'],\n",
       "      dtype='object')"
      ]
     },
     "execution_count": 3,
     "metadata": {},
     "output_type": "execute_result"
    }
   ],
   "source": [
    "data0.columns"
   ]
  },
  {
   "cell_type": "code",
   "execution_count": 4,
   "id": "considered-williams",
   "metadata": {
    "execution": {
     "iopub.execute_input": "2021-06-20T16:41:58.700381Z",
     "iopub.status.busy": "2021-06-20T16:41:58.699760Z",
     "iopub.status.idle": "2021-06-20T16:41:58.703408Z",
     "shell.execute_reply": "2021-06-20T16:41:58.702400Z",
     "shell.execute_reply.started": "2021-06-20T16:41:07.905681Z"
    },
    "papermill": {
     "duration": 0.031939,
     "end_time": "2021-06-20T16:41:58.703593",
     "exception": false,
     "start_time": "2021-06-20T16:41:58.671654",
     "status": "completed"
    },
    "tags": []
   },
   "outputs": [
    {
     "name": "stdout",
     "output_type": "stream",
     "text": [
      "390\n"
     ]
    }
   ],
   "source": [
    "n=len(data0)\n",
    "print(n)"
   ]
  },
  {
   "cell_type": "code",
   "execution_count": 5,
   "id": "graphic-china",
   "metadata": {
    "execution": {
     "iopub.execute_input": "2021-06-20T16:41:58.756810Z",
     "iopub.status.busy": "2021-06-20T16:41:58.756177Z",
     "iopub.status.idle": "2021-06-20T16:41:58.760139Z",
     "shell.execute_reply": "2021-06-20T16:41:58.760542Z",
     "shell.execute_reply.started": "2021-06-20T16:41:07.918606Z"
    },
    "papermill": {
     "duration": 0.032048,
     "end_time": "2021-06-20T16:41:58.760710",
     "exception": false,
     "start_time": "2021-06-20T16:41:58.728662",
     "status": "completed"
    },
    "tags": []
   },
   "outputs": [],
   "source": [
    "N=[]\n",
    "for i in range(n):\n",
    "    N+=[i]\n",
    "random.shuffle(N)"
   ]
  },
  {
   "cell_type": "code",
   "execution_count": 6,
   "id": "equipped-bunch",
   "metadata": {
    "execution": {
     "iopub.execute_input": "2021-06-20T16:41:58.812771Z",
     "iopub.status.busy": "2021-06-20T16:41:58.812066Z",
     "iopub.status.idle": "2021-06-20T16:41:58.821240Z",
     "shell.execute_reply": "2021-06-20T16:41:58.820637Z",
     "shell.execute_reply.started": "2021-06-20T16:41:07.930476Z"
    },
    "papermill": {
     "duration": 0.036724,
     "end_time": "2021-06-20T16:41:58.821396",
     "exception": false,
     "start_time": "2021-06-20T16:41:58.784672",
     "status": "completed"
    },
    "tags": []
   },
   "outputs": [],
   "source": [
    "bmi=[]\n",
    "for item in data0['bmi']:\n",
    "    bmi+=[float(item.replace(',','.'))]\n",
    "data0['bmi']=bmi"
   ]
  },
  {
   "cell_type": "code",
   "execution_count": 7,
   "id": "mounted-party",
   "metadata": {
    "execution": {
     "iopub.execute_input": "2021-06-20T16:41:58.875759Z",
     "iopub.status.busy": "2021-06-20T16:41:58.875139Z",
     "iopub.status.idle": "2021-06-20T16:41:58.877074Z",
     "shell.execute_reply": "2021-06-20T16:41:58.877474Z",
     "shell.execute_reply.started": "2021-06-20T16:41:07.942927Z"
    },
    "papermill": {
     "duration": 0.032587,
     "end_time": "2021-06-20T16:41:58.877640",
     "exception": false,
     "start_time": "2021-06-20T16:41:58.845053",
     "status": "completed"
    },
    "tags": []
   },
   "outputs": [],
   "source": [
    "waist_hip_ratio=[]\n",
    "for item in data0['waist_hip_ratio']:\n",
    "    waist_hip_ratio+=[float(item.replace(',','.'))]\n",
    "data0['waist_hip_ratio']=waist_hip_ratio"
   ]
  },
  {
   "cell_type": "code",
   "execution_count": 8,
   "id": "common-frame",
   "metadata": {
    "execution": {
     "iopub.execute_input": "2021-06-20T16:41:58.930428Z",
     "iopub.status.busy": "2021-06-20T16:41:58.929802Z",
     "iopub.status.idle": "2021-06-20T16:41:58.934443Z",
     "shell.execute_reply": "2021-06-20T16:41:58.934870Z",
     "shell.execute_reply.started": "2021-06-20T16:41:07.956750Z"
    },
    "papermill": {
     "duration": 0.032776,
     "end_time": "2021-06-20T16:41:58.935039",
     "exception": false,
     "start_time": "2021-06-20T16:41:58.902263",
     "status": "completed"
    },
    "tags": []
   },
   "outputs": [],
   "source": [
    "chol_hdl_ratio=[]\n",
    "for item in data0['chol_hdl_ratio']:\n",
    "    chol_hdl_ratio+=[float(item.replace(',','.'))]\n",
    "data0['chol_hdl_ratio']=chol_hdl_ratio"
   ]
  },
  {
   "cell_type": "code",
   "execution_count": 9,
   "id": "dying-impact",
   "metadata": {
    "execution": {
     "iopub.execute_input": "2021-06-20T16:41:58.984937Z",
     "iopub.status.busy": "2021-06-20T16:41:58.984328Z",
     "iopub.status.idle": "2021-06-20T16:41:58.991139Z",
     "shell.execute_reply": "2021-06-20T16:41:58.991580Z",
     "shell.execute_reply.started": "2021-06-20T16:41:07.971247Z"
    },
    "papermill": {
     "duration": 0.033235,
     "end_time": "2021-06-20T16:41:58.991761",
     "exception": false,
     "start_time": "2021-06-20T16:41:58.958526",
     "status": "completed"
    },
    "tags": []
   },
   "outputs": [],
   "source": [
    "data0['gender']=data0['gender'].map({'female':0,'male':1}).astype(int)\n",
    "data0['diabetes']=data0['diabetes'].map({'No diabetes':0,'Diabetes':1}).astype(int)"
   ]
  },
  {
   "cell_type": "code",
   "execution_count": 10,
   "id": "built-observer",
   "metadata": {
    "execution": {
     "iopub.execute_input": "2021-06-20T16:41:59.044173Z",
     "iopub.status.busy": "2021-06-20T16:41:59.043572Z",
     "iopub.status.idle": "2021-06-20T16:41:59.060314Z",
     "shell.execute_reply": "2021-06-20T16:41:59.059708Z",
     "shell.execute_reply.started": "2021-06-20T16:41:07.983654Z"
    },
    "papermill": {
     "duration": 0.043937,
     "end_time": "2021-06-20T16:41:59.060444",
     "exception": false,
     "start_time": "2021-06-20T16:41:59.016507",
     "status": "completed"
    },
    "tags": []
   },
   "outputs": [
    {
     "data": {
      "text/html": [
       "<div>\n",
       "<style scoped>\n",
       "    .dataframe tbody tr th:only-of-type {\n",
       "        vertical-align: middle;\n",
       "    }\n",
       "\n",
       "    .dataframe tbody tr th {\n",
       "        vertical-align: top;\n",
       "    }\n",
       "\n",
       "    .dataframe thead th {\n",
       "        text-align: right;\n",
       "    }\n",
       "</style>\n",
       "<table border=\"1\" class=\"dataframe\">\n",
       "  <thead>\n",
       "    <tr style=\"text-align: right;\">\n",
       "      <th></th>\n",
       "      <th>0</th>\n",
       "      <th>1</th>\n",
       "      <th>2</th>\n",
       "      <th>3</th>\n",
       "      <th>4</th>\n",
       "    </tr>\n",
       "  </thead>\n",
       "  <tbody>\n",
       "    <tr>\n",
       "      <th>patient_number</th>\n",
       "      <td>1.00</td>\n",
       "      <td>2.00</td>\n",
       "      <td>3.00</td>\n",
       "      <td>4.00</td>\n",
       "      <td>5.00</td>\n",
       "    </tr>\n",
       "    <tr>\n",
       "      <th>cholesterol</th>\n",
       "      <td>193.00</td>\n",
       "      <td>146.00</td>\n",
       "      <td>217.00</td>\n",
       "      <td>226.00</td>\n",
       "      <td>164.00</td>\n",
       "    </tr>\n",
       "    <tr>\n",
       "      <th>glucose</th>\n",
       "      <td>77.00</td>\n",
       "      <td>79.00</td>\n",
       "      <td>75.00</td>\n",
       "      <td>97.00</td>\n",
       "      <td>91.00</td>\n",
       "    </tr>\n",
       "    <tr>\n",
       "      <th>hdl_chol</th>\n",
       "      <td>49.00</td>\n",
       "      <td>41.00</td>\n",
       "      <td>54.00</td>\n",
       "      <td>70.00</td>\n",
       "      <td>67.00</td>\n",
       "    </tr>\n",
       "    <tr>\n",
       "      <th>chol_hdl_ratio</th>\n",
       "      <td>3.90</td>\n",
       "      <td>3.60</td>\n",
       "      <td>4.00</td>\n",
       "      <td>3.20</td>\n",
       "      <td>2.40</td>\n",
       "    </tr>\n",
       "    <tr>\n",
       "      <th>age</th>\n",
       "      <td>19.00</td>\n",
       "      <td>19.00</td>\n",
       "      <td>20.00</td>\n",
       "      <td>20.00</td>\n",
       "      <td>20.00</td>\n",
       "    </tr>\n",
       "    <tr>\n",
       "      <th>gender</th>\n",
       "      <td>0.00</td>\n",
       "      <td>0.00</td>\n",
       "      <td>0.00</td>\n",
       "      <td>0.00</td>\n",
       "      <td>0.00</td>\n",
       "    </tr>\n",
       "    <tr>\n",
       "      <th>height</th>\n",
       "      <td>61.00</td>\n",
       "      <td>60.00</td>\n",
       "      <td>67.00</td>\n",
       "      <td>64.00</td>\n",
       "      <td>70.00</td>\n",
       "    </tr>\n",
       "    <tr>\n",
       "      <th>weight</th>\n",
       "      <td>119.00</td>\n",
       "      <td>135.00</td>\n",
       "      <td>187.00</td>\n",
       "      <td>114.00</td>\n",
       "      <td>141.00</td>\n",
       "    </tr>\n",
       "    <tr>\n",
       "      <th>bmi</th>\n",
       "      <td>22.50</td>\n",
       "      <td>26.40</td>\n",
       "      <td>29.30</td>\n",
       "      <td>19.60</td>\n",
       "      <td>20.20</td>\n",
       "    </tr>\n",
       "    <tr>\n",
       "      <th>systolic_bp</th>\n",
       "      <td>118.00</td>\n",
       "      <td>108.00</td>\n",
       "      <td>110.00</td>\n",
       "      <td>122.00</td>\n",
       "      <td>122.00</td>\n",
       "    </tr>\n",
       "    <tr>\n",
       "      <th>diastolic_bp</th>\n",
       "      <td>70.00</td>\n",
       "      <td>58.00</td>\n",
       "      <td>72.00</td>\n",
       "      <td>64.00</td>\n",
       "      <td>86.00</td>\n",
       "    </tr>\n",
       "    <tr>\n",
       "      <th>waist</th>\n",
       "      <td>32.00</td>\n",
       "      <td>33.00</td>\n",
       "      <td>40.00</td>\n",
       "      <td>31.00</td>\n",
       "      <td>32.00</td>\n",
       "    </tr>\n",
       "    <tr>\n",
       "      <th>hip</th>\n",
       "      <td>38.00</td>\n",
       "      <td>40.00</td>\n",
       "      <td>45.00</td>\n",
       "      <td>39.00</td>\n",
       "      <td>39.00</td>\n",
       "    </tr>\n",
       "    <tr>\n",
       "      <th>waist_hip_ratio</th>\n",
       "      <td>0.84</td>\n",
       "      <td>0.83</td>\n",
       "      <td>0.89</td>\n",
       "      <td>0.79</td>\n",
       "      <td>0.82</td>\n",
       "    </tr>\n",
       "    <tr>\n",
       "      <th>diabetes</th>\n",
       "      <td>0.00</td>\n",
       "      <td>0.00</td>\n",
       "      <td>0.00</td>\n",
       "      <td>0.00</td>\n",
       "      <td>0.00</td>\n",
       "    </tr>\n",
       "  </tbody>\n",
       "</table>\n",
       "</div>"
      ],
      "text/plain": [
       "                      0       1       2       3       4\n",
       "patient_number     1.00    2.00    3.00    4.00    5.00\n",
       "cholesterol      193.00  146.00  217.00  226.00  164.00\n",
       "glucose           77.00   79.00   75.00   97.00   91.00\n",
       "hdl_chol          49.00   41.00   54.00   70.00   67.00\n",
       "chol_hdl_ratio     3.90    3.60    4.00    3.20    2.40\n",
       "age               19.00   19.00   20.00   20.00   20.00\n",
       "gender             0.00    0.00    0.00    0.00    0.00\n",
       "height            61.00   60.00   67.00   64.00   70.00\n",
       "weight           119.00  135.00  187.00  114.00  141.00\n",
       "bmi               22.50   26.40   29.30   19.60   20.20\n",
       "systolic_bp      118.00  108.00  110.00  122.00  122.00\n",
       "diastolic_bp      70.00   58.00   72.00   64.00   86.00\n",
       "waist             32.00   33.00   40.00   31.00   32.00\n",
       "hip               38.00   40.00   45.00   39.00   39.00\n",
       "waist_hip_ratio    0.84    0.83    0.89    0.79    0.82\n",
       "diabetes           0.00    0.00    0.00    0.00    0.00"
      ]
     },
     "execution_count": 10,
     "metadata": {},
     "output_type": "execute_result"
    }
   ],
   "source": [
    "data0[0:5].T"
   ]
  },
  {
   "cell_type": "markdown",
   "id": "duplicate-bradford",
   "metadata": {
    "papermill": {
     "duration": 0.025544,
     "end_time": "2021-06-20T16:41:59.110991",
     "exception": false,
     "start_time": "2021-06-20T16:41:59.085447",
     "status": "completed"
    },
    "tags": []
   },
   "source": [
    "# Target setting"
   ]
  },
  {
   "cell_type": "code",
   "execution_count": 11,
   "id": "skilled-parliament",
   "metadata": {
    "execution": {
     "iopub.execute_input": "2021-06-20T16:41:59.165291Z",
     "iopub.status.busy": "2021-06-20T16:41:59.164640Z",
     "iopub.status.idle": "2021-06-20T16:41:59.181132Z",
     "shell.execute_reply": "2021-06-20T16:41:59.181584Z",
     "shell.execute_reply.started": "2021-06-20T16:41:08.013740Z"
    },
    "papermill": {
     "duration": 0.044263,
     "end_time": "2021-06-20T16:41:59.181901",
     "exception": false,
     "start_time": "2021-06-20T16:41:59.137638",
     "status": "completed"
    },
    "tags": []
   },
   "outputs": [
    {
     "data": {
      "text/html": [
       "<div>\n",
       "<style scoped>\n",
       "    .dataframe tbody tr th:only-of-type {\n",
       "        vertical-align: middle;\n",
       "    }\n",
       "\n",
       "    .dataframe tbody tr th {\n",
       "        vertical-align: top;\n",
       "    }\n",
       "\n",
       "    .dataframe thead th {\n",
       "        text-align: right;\n",
       "    }\n",
       "</style>\n",
       "<table border=\"1\" class=\"dataframe\">\n",
       "  <thead>\n",
       "    <tr style=\"text-align: right;\">\n",
       "      <th></th>\n",
       "      <th>0</th>\n",
       "      <th>1</th>\n",
       "      <th>2</th>\n",
       "      <th>3</th>\n",
       "      <th>4</th>\n",
       "    </tr>\n",
       "  </thead>\n",
       "  <tbody>\n",
       "    <tr>\n",
       "      <th>cholesterol</th>\n",
       "      <td>193.00</td>\n",
       "      <td>146.00</td>\n",
       "      <td>217.00</td>\n",
       "      <td>226.00</td>\n",
       "      <td>164.00</td>\n",
       "    </tr>\n",
       "    <tr>\n",
       "      <th>glucose</th>\n",
       "      <td>77.00</td>\n",
       "      <td>79.00</td>\n",
       "      <td>75.00</td>\n",
       "      <td>97.00</td>\n",
       "      <td>91.00</td>\n",
       "    </tr>\n",
       "    <tr>\n",
       "      <th>hdl_chol</th>\n",
       "      <td>49.00</td>\n",
       "      <td>41.00</td>\n",
       "      <td>54.00</td>\n",
       "      <td>70.00</td>\n",
       "      <td>67.00</td>\n",
       "    </tr>\n",
       "    <tr>\n",
       "      <th>chol_hdl_ratio</th>\n",
       "      <td>3.90</td>\n",
       "      <td>3.60</td>\n",
       "      <td>4.00</td>\n",
       "      <td>3.20</td>\n",
       "      <td>2.40</td>\n",
       "    </tr>\n",
       "    <tr>\n",
       "      <th>age</th>\n",
       "      <td>19.00</td>\n",
       "      <td>19.00</td>\n",
       "      <td>20.00</td>\n",
       "      <td>20.00</td>\n",
       "      <td>20.00</td>\n",
       "    </tr>\n",
       "    <tr>\n",
       "      <th>gender</th>\n",
       "      <td>0.00</td>\n",
       "      <td>0.00</td>\n",
       "      <td>0.00</td>\n",
       "      <td>0.00</td>\n",
       "      <td>0.00</td>\n",
       "    </tr>\n",
       "    <tr>\n",
       "      <th>height</th>\n",
       "      <td>61.00</td>\n",
       "      <td>60.00</td>\n",
       "      <td>67.00</td>\n",
       "      <td>64.00</td>\n",
       "      <td>70.00</td>\n",
       "    </tr>\n",
       "    <tr>\n",
       "      <th>weight</th>\n",
       "      <td>119.00</td>\n",
       "      <td>135.00</td>\n",
       "      <td>187.00</td>\n",
       "      <td>114.00</td>\n",
       "      <td>141.00</td>\n",
       "    </tr>\n",
       "    <tr>\n",
       "      <th>bmi</th>\n",
       "      <td>22.50</td>\n",
       "      <td>26.40</td>\n",
       "      <td>29.30</td>\n",
       "      <td>19.60</td>\n",
       "      <td>20.20</td>\n",
       "    </tr>\n",
       "    <tr>\n",
       "      <th>systolic_bp</th>\n",
       "      <td>118.00</td>\n",
       "      <td>108.00</td>\n",
       "      <td>110.00</td>\n",
       "      <td>122.00</td>\n",
       "      <td>122.00</td>\n",
       "    </tr>\n",
       "    <tr>\n",
       "      <th>diastolic_bp</th>\n",
       "      <td>70.00</td>\n",
       "      <td>58.00</td>\n",
       "      <td>72.00</td>\n",
       "      <td>64.00</td>\n",
       "      <td>86.00</td>\n",
       "    </tr>\n",
       "    <tr>\n",
       "      <th>waist</th>\n",
       "      <td>32.00</td>\n",
       "      <td>33.00</td>\n",
       "      <td>40.00</td>\n",
       "      <td>31.00</td>\n",
       "      <td>32.00</td>\n",
       "    </tr>\n",
       "    <tr>\n",
       "      <th>hip</th>\n",
       "      <td>38.00</td>\n",
       "      <td>40.00</td>\n",
       "      <td>45.00</td>\n",
       "      <td>39.00</td>\n",
       "      <td>39.00</td>\n",
       "    </tr>\n",
       "    <tr>\n",
       "      <th>waist_hip_ratio</th>\n",
       "      <td>0.84</td>\n",
       "      <td>0.83</td>\n",
       "      <td>0.89</td>\n",
       "      <td>0.79</td>\n",
       "      <td>0.82</td>\n",
       "    </tr>\n",
       "  </tbody>\n",
       "</table>\n",
       "</div>"
      ],
      "text/plain": [
       "                      0       1       2       3       4\n",
       "cholesterol      193.00  146.00  217.00  226.00  164.00\n",
       "glucose           77.00   79.00   75.00   97.00   91.00\n",
       "hdl_chol          49.00   41.00   54.00   70.00   67.00\n",
       "chol_hdl_ratio     3.90    3.60    4.00    3.20    2.40\n",
       "age               19.00   19.00   20.00   20.00   20.00\n",
       "gender             0.00    0.00    0.00    0.00    0.00\n",
       "height            61.00   60.00   67.00   64.00   70.00\n",
       "weight           119.00  135.00  187.00  114.00  141.00\n",
       "bmi               22.50   26.40   29.30   19.60   20.20\n",
       "systolic_bp      118.00  108.00  110.00  122.00  122.00\n",
       "diastolic_bp      70.00   58.00   72.00   64.00   86.00\n",
       "waist             32.00   33.00   40.00   31.00   32.00\n",
       "hip               38.00   40.00   45.00   39.00   39.00\n",
       "waist_hip_ratio    0.84    0.83    0.89    0.79    0.82"
      ]
     },
     "execution_count": 11,
     "metadata": {},
     "output_type": "execute_result"
    }
   ],
   "source": [
    "datay0=data0['diabetes']\n",
    "datax0=data0.drop(['diabetes','patient_number'],axis=1)\n",
    "datax0[0:5].T"
   ]
  },
  {
   "cell_type": "code",
   "execution_count": 12,
   "id": "spanish-agriculture",
   "metadata": {
    "execution": {
     "iopub.execute_input": "2021-06-20T16:41:59.240219Z",
     "iopub.status.busy": "2021-06-20T16:41:59.239608Z",
     "iopub.status.idle": "2021-06-20T16:41:59.242334Z",
     "shell.execute_reply": "2021-06-20T16:41:59.242720Z",
     "shell.execute_reply.started": "2021-06-20T16:41:08.043261Z"
    },
    "papermill": {
     "duration": 0.032528,
     "end_time": "2021-06-20T16:41:59.242892",
     "exception": false,
     "start_time": "2021-06-20T16:41:59.210364",
     "status": "completed"
    },
    "tags": []
   },
   "outputs": [
    {
     "data": {
      "text/plain": [
       "(390, 14)"
      ]
     },
     "execution_count": 12,
     "metadata": {},
     "output_type": "execute_result"
    }
   ],
   "source": [
    "datax0.shape"
   ]
  },
  {
   "cell_type": "code",
   "execution_count": 13,
   "id": "outdoor-water",
   "metadata": {
    "execution": {
     "iopub.execute_input": "2021-06-20T16:41:59.296460Z",
     "iopub.status.busy": "2021-06-20T16:41:59.295821Z",
     "iopub.status.idle": "2021-06-20T16:41:59.298303Z",
     "shell.execute_reply": "2021-06-20T16:41:59.298750Z",
     "shell.execute_reply.started": "2021-06-20T16:41:08.051845Z"
    },
    "papermill": {
     "duration": 0.031579,
     "end_time": "2021-06-20T16:41:59.298926",
     "exception": false,
     "start_time": "2021-06-20T16:41:59.267347",
     "status": "completed"
    },
    "tags": []
   },
   "outputs": [],
   "source": [
    "datax2=np.array(datax0)\n",
    "datay2=np.array(datay0)"
   ]
  },
  {
   "cell_type": "code",
   "execution_count": 14,
   "id": "settled-habitat",
   "metadata": {
    "execution": {
     "iopub.execute_input": "2021-06-20T16:41:59.351457Z",
     "iopub.status.busy": "2021-06-20T16:41:59.350878Z",
     "iopub.status.idle": "2021-06-20T16:41:59.355589Z",
     "shell.execute_reply": "2021-06-20T16:41:59.356016Z",
     "shell.execute_reply.started": "2021-06-20T16:41:08.063451Z"
    },
    "papermill": {
     "duration": 0.032516,
     "end_time": "2021-06-20T16:41:59.356189",
     "exception": false,
     "start_time": "2021-06-20T16:41:59.323673",
     "status": "completed"
    },
    "tags": []
   },
   "outputs": [],
   "source": [
    "m=len(datax2)\n",
    "M=[]\n",
    "for i in range(m):\n",
    "    M+=[i]\n",
    "random.shuffle(M)"
   ]
  },
  {
   "cell_type": "markdown",
   "id": "sporting-scottish",
   "metadata": {
    "papermill": {
     "duration": 0.026522,
     "end_time": "2021-06-20T16:41:59.408972",
     "exception": false,
     "start_time": "2021-06-20T16:41:59.382450",
     "status": "completed"
    },
    "tags": []
   },
   "source": [
    "# Train and test setting"
   ]
  },
  {
   "cell_type": "code",
   "execution_count": 15,
   "id": "noble-mapping",
   "metadata": {
    "execution": {
     "iopub.execute_input": "2021-06-20T16:41:59.465869Z",
     "iopub.status.busy": "2021-06-20T16:41:59.465246Z",
     "iopub.status.idle": "2021-06-20T16:41:59.467723Z",
     "shell.execute_reply": "2021-06-20T16:41:59.468207Z",
     "shell.execute_reply.started": "2021-06-20T16:41:08.079632Z"
    },
    "papermill": {
     "duration": 0.034178,
     "end_time": "2021-06-20T16:41:59.468386",
     "exception": false,
     "start_time": "2021-06-20T16:41:59.434208",
     "status": "completed"
    },
    "tags": []
   },
   "outputs": [],
   "source": [
    "train=datax2[M[0:(n//10)*8]]\n",
    "test=datax2[M[(n//10)*8:]]\n",
    "trainy=datay2[M[0:(n//10)*8]]\n",
    "testy=datay2[M[(n//10)*8:]]"
   ]
  },
  {
   "cell_type": "code",
   "execution_count": 16,
   "id": "destroyed-trout",
   "metadata": {
    "execution": {
     "iopub.execute_input": "2021-06-20T16:41:59.525595Z",
     "iopub.status.busy": "2021-06-20T16:41:59.524991Z",
     "iopub.status.idle": "2021-06-20T16:41:59.528254Z",
     "shell.execute_reply": "2021-06-20T16:41:59.527767Z",
     "shell.execute_reply.started": "2021-06-20T16:41:08.091029Z"
    },
    "papermill": {
     "duration": 0.034236,
     "end_time": "2021-06-20T16:41:59.528382",
     "exception": false,
     "start_time": "2021-06-20T16:41:59.494146",
     "status": "completed"
    },
    "tags": []
   },
   "outputs": [
    {
     "name": "stdout",
     "output_type": "stream",
     "text": [
      "['cholesterol', 'glucose', 'hdl_chol', 'chol_hdl_ratio', 'age', 'gender', 'height', 'weight', 'bmi', 'systolic_bp', 'diastolic_bp', 'waist', 'hip', 'waist_hip_ratio']\n"
     ]
    }
   ],
   "source": [
    "df_columns = list(datax0.columns)\n",
    "print(df_columns)"
   ]
  },
  {
   "cell_type": "code",
   "execution_count": 17,
   "id": "breathing-petroleum",
   "metadata": {
    "execution": {
     "iopub.execute_input": "2021-06-20T16:41:59.582240Z",
     "iopub.status.busy": "2021-06-20T16:41:59.581349Z",
     "iopub.status.idle": "2021-06-20T16:41:59.586560Z",
     "shell.execute_reply": "2021-06-20T16:41:59.585986Z",
     "shell.execute_reply.started": "2021-06-20T16:41:08.105319Z"
    },
    "papermill": {
     "duration": 0.032793,
     "end_time": "2021-06-20T16:41:59.586691",
     "exception": false,
     "start_time": "2021-06-20T16:41:59.553898",
     "status": "completed"
    },
    "tags": []
   },
   "outputs": [],
   "source": [
    "train_df=pd.DataFrame(train)\n",
    "test_df=pd.DataFrame(test)"
   ]
  },
  {
   "cell_type": "code",
   "execution_count": 18,
   "id": "lyric-humanity",
   "metadata": {
    "execution": {
     "iopub.execute_input": "2021-06-20T16:41:59.640524Z",
     "iopub.status.busy": "2021-06-20T16:41:59.639612Z",
     "iopub.status.idle": "2021-06-20T16:41:59.643805Z",
     "shell.execute_reply": "2021-06-20T16:41:59.644267Z",
     "shell.execute_reply.started": "2021-06-20T16:41:08.115737Z"
    },
    "papermill": {
     "duration": 0.032942,
     "end_time": "2021-06-20T16:41:59.644429",
     "exception": false,
     "start_time": "2021-06-20T16:41:59.611487",
     "status": "completed"
    },
    "tags": []
   },
   "outputs": [],
   "source": [
    "train_df.columns=df_columns\n",
    "test_df.columns=df_columns"
   ]
  },
  {
   "cell_type": "code",
   "execution_count": 19,
   "id": "worst-blowing",
   "metadata": {
    "execution": {
     "iopub.execute_input": "2021-06-20T16:41:59.698003Z",
     "iopub.status.busy": "2021-06-20T16:41:59.697085Z",
     "iopub.status.idle": "2021-06-20T16:41:59.701151Z",
     "shell.execute_reply": "2021-06-20T16:41:59.701622Z",
     "shell.execute_reply.started": "2021-06-20T16:41:08.131896Z"
    },
    "papermill": {
     "duration": 0.032759,
     "end_time": "2021-06-20T16:41:59.701782",
     "exception": false,
     "start_time": "2021-06-20T16:41:59.669023",
     "status": "completed"
    },
    "tags": []
   },
   "outputs": [],
   "source": [
    "def create_numeric_feature(input_df):\n",
    "    use_columns = df_columns \n",
    "    return input_df[use_columns].copy()"
   ]
  },
  {
   "cell_type": "code",
   "execution_count": 20,
   "id": "modified-thursday",
   "metadata": {
    "execution": {
     "iopub.execute_input": "2021-06-20T16:41:59.755369Z",
     "iopub.status.busy": "2021-06-20T16:41:59.754449Z",
     "iopub.status.idle": "2021-06-20T16:41:59.761902Z",
     "shell.execute_reply": "2021-06-20T16:41:59.762333Z",
     "shell.execute_reply.started": "2021-06-20T16:41:08.140445Z"
    },
    "papermill": {
     "duration": 0.035869,
     "end_time": "2021-06-20T16:41:59.762507",
     "exception": false,
     "start_time": "2021-06-20T16:41:59.726638",
     "status": "completed"
    },
    "tags": []
   },
   "outputs": [],
   "source": [
    "from contextlib import contextmanager\n",
    "from time import time\n",
    "\n",
    "class Timer:\n",
    "    def __init__(self, logger=None, format_str='{:.3f}[s]', prefix=None, suffix=None, sep=' '):\n",
    "\n",
    "        if prefix: format_str = str(prefix) + sep + format_str\n",
    "        if suffix: format_str = format_str + sep + str(suffix)\n",
    "        self.format_str = format_str\n",
    "        self.logger = logger\n",
    "        self.start = None\n",
    "        self.end = None\n",
    "\n",
    "    @property\n",
    "    def duration(self):\n",
    "        if self.end is None:\n",
    "            return 0\n",
    "        return self.end - self.start\n",
    "\n",
    "    def __enter__(self):\n",
    "        self.start = time()\n",
    "\n",
    "    def __exit__(self, exc_type, exc_val, exc_tb):\n",
    "        self.end = time()\n",
    "        out_str = self.format_str.format(self.duration)\n",
    "        if self.logger:\n",
    "            self.logger.info(out_str)\n",
    "        else:\n",
    "            print(out_str)"
   ]
  },
  {
   "cell_type": "code",
   "execution_count": 21,
   "id": "stopped-dublin",
   "metadata": {
    "execution": {
     "iopub.execute_input": "2021-06-20T16:41:59.815507Z",
     "iopub.status.busy": "2021-06-20T16:41:59.814594Z",
     "iopub.status.idle": "2021-06-20T16:41:59.820444Z",
     "shell.execute_reply": "2021-06-20T16:41:59.820950Z",
     "shell.execute_reply.started": "2021-06-20T16:41:08.151762Z"
    },
    "papermill": {
     "duration": 0.033832,
     "end_time": "2021-06-20T16:41:59.821122",
     "exception": false,
     "start_time": "2021-06-20T16:41:59.787290",
     "status": "completed"
    },
    "tags": []
   },
   "outputs": [],
   "source": [
    "from tqdm import tqdm\n",
    "\n",
    "def to_feature(input_df):\n",
    "\n",
    "    processors = [\n",
    "        create_numeric_feature,\n",
    "    ]\n",
    "    \n",
    "    out_df = pd.DataFrame()\n",
    "    \n",
    "    for func in tqdm(processors, total=len(processors)):\n",
    "        with Timer(prefix='create' + func.__name__ + ' '):\n",
    "            _df = func(input_df)\n",
    "\n",
    "        assert len(_df) == len(input_df), func.__name__\n",
    "        out_df = pd.concat([out_df, _df], axis=1)\n",
    "        \n",
    "    return out_df"
   ]
  },
  {
   "cell_type": "code",
   "execution_count": 22,
   "id": "crazy-simon",
   "metadata": {
    "execution": {
     "iopub.execute_input": "2021-06-20T16:41:59.876677Z",
     "iopub.status.busy": "2021-06-20T16:41:59.875772Z",
     "iopub.status.idle": "2021-06-20T16:41:59.892766Z",
     "shell.execute_reply": "2021-06-20T16:41:59.893165Z",
     "shell.execute_reply.started": "2021-06-20T16:41:08.166474Z"
    },
    "papermill": {
     "duration": 0.046698,
     "end_time": "2021-06-20T16:41:59.893335",
     "exception": false,
     "start_time": "2021-06-20T16:41:59.846637",
     "status": "completed"
    },
    "tags": []
   },
   "outputs": [
    {
     "name": "stderr",
     "output_type": "stream",
     "text": [
      "100%|██████████| 1/1 [00:00<00:00, 160.28it/s]\n"
     ]
    },
    {
     "name": "stdout",
     "output_type": "stream",
     "text": [
      "createcreate_numeric_feature  0.004[s]\n"
     ]
    },
    {
     "name": "stderr",
     "output_type": "stream",
     "text": [
      "100%|██████████| 1/1 [00:00<00:00, 548.20it/s]"
     ]
    },
    {
     "name": "stdout",
     "output_type": "stream",
     "text": [
      "createcreate_numeric_feature  0.001[s]\n"
     ]
    },
    {
     "name": "stderr",
     "output_type": "stream",
     "text": [
      "\n"
     ]
    }
   ],
   "source": [
    "train_feat_df = to_feature(train_df)\n",
    "test_feat_df = to_feature(test_df)"
   ]
  },
  {
   "cell_type": "markdown",
   "id": "dominant-chase",
   "metadata": {
    "papermill": {
     "duration": 0.027995,
     "end_time": "2021-06-20T16:41:59.948310",
     "exception": false,
     "start_time": "2021-06-20T16:41:59.920315",
     "status": "completed"
    },
    "tags": []
   },
   "source": [
    "# Model"
   ]
  },
  {
   "cell_type": "code",
   "execution_count": 23,
   "id": "suspended-chrome",
   "metadata": {
    "execution": {
     "iopub.execute_input": "2021-06-20T16:42:00.011496Z",
     "iopub.status.busy": "2021-06-20T16:42:00.010666Z",
     "iopub.status.idle": "2021-06-20T16:42:00.013986Z",
     "shell.execute_reply": "2021-06-20T16:42:00.013491Z",
     "shell.execute_reply.started": "2021-06-20T16:41:08.189295Z"
    },
    "papermill": {
     "duration": 0.039353,
     "end_time": "2021-06-20T16:42:00.014124",
     "exception": false,
     "start_time": "2021-06-20T16:41:59.974771",
     "status": "completed"
    },
    "tags": []
   },
   "outputs": [],
   "source": [
    "import lightgbm as lgbm\n",
    "from sklearn.metrics import mean_squared_error\n",
    "\n",
    "def fit_lgbm(X, y, cv, \n",
    "             params: dict=None, \n",
    "             verbose: int=50):\n",
    "\n",
    "    if params is None:\n",
    "        params = {}\n",
    "\n",
    "    models = []\n",
    "    oof_pred = np.zeros_like(y, dtype=np.float)\n",
    "\n",
    "    for i, (idx_train, idx_valid) in enumerate(cv): \n",
    "        x_train, y_train = X[idx_train], y[idx_train]\n",
    "        x_valid, y_valid = X[idx_valid], y[idx_valid]\n",
    "\n",
    "        clf = lgbm.LGBMRegressor(**params)\n",
    "        \n",
    "        with Timer(prefix='fit fold={} '.format(i)):\n",
    "            clf.fit(x_train, y_train, \n",
    "                    eval_set=[(x_valid, y_valid)],  \n",
    "                    early_stopping_rounds=100,\n",
    "                    verbose=verbose)\n",
    "\n",
    "        pred_i = clf.predict(x_valid)\n",
    "        oof_pred[idx_valid] = pred_i\n",
    "        models.append(clf)\n",
    "        print(f'Fold {i} RMSLE: {mean_squared_error(y_valid, pred_i) ** .5:.4f}')\n",
    "        print()\n",
    "\n",
    "    score = mean_squared_error(y, oof_pred) ** .5\n",
    "    print('-' * 50)\n",
    "    print('FINISHED | Whole RMSLE: {:.4f}'.format(score))\n",
    "    return oof_pred, models"
   ]
  },
  {
   "cell_type": "code",
   "execution_count": 24,
   "id": "julian-button",
   "metadata": {
    "execution": {
     "iopub.execute_input": "2021-06-20T16:42:00.073424Z",
     "iopub.status.busy": "2021-06-20T16:42:00.072753Z",
     "iopub.status.idle": "2021-06-20T16:42:00.074754Z",
     "shell.execute_reply": "2021-06-20T16:42:00.075216Z",
     "shell.execute_reply.started": "2021-06-20T16:41:08.201222Z"
    },
    "papermill": {
     "duration": 0.033922,
     "end_time": "2021-06-20T16:42:00.075386",
     "exception": false,
     "start_time": "2021-06-20T16:42:00.041464",
     "status": "completed"
    },
    "tags": []
   },
   "outputs": [],
   "source": [
    "params = {\n",
    "    'objective': 'rmse', \n",
    "    'learning_rate': .1,\n",
    "    'reg_lambda': 1.,\n",
    "    'reg_alpha': .1,\n",
    "    'max_depth': 5, \n",
    "    'n_estimators': 10000, \n",
    "    'colsample_bytree': .5, \n",
    "    'min_child_samples': 10,\n",
    "    'subsample_freq': 3,\n",
    "    'subsample': .9,\n",
    "    'importance_type': 'gain', \n",
    "    'random_state': 71,\n",
    "    'num_leaves': 62\n",
    "}"
   ]
  },
  {
   "cell_type": "code",
   "execution_count": 25,
   "id": "natural-captain",
   "metadata": {
    "execution": {
     "iopub.execute_input": "2021-06-20T16:42:00.138829Z",
     "iopub.status.busy": "2021-06-20T16:42:00.137848Z",
     "iopub.status.idle": "2021-06-20T16:42:00.141722Z",
     "shell.execute_reply": "2021-06-20T16:42:00.142250Z",
     "shell.execute_reply.started": "2021-06-20T16:41:08.216443Z"
    },
    "papermill": {
     "duration": 0.039696,
     "end_time": "2021-06-20T16:42:00.142427",
     "exception": false,
     "start_time": "2021-06-20T16:42:00.102731",
     "status": "completed"
    },
    "tags": []
   },
   "outputs": [],
   "source": [
    "y = trainy"
   ]
  },
  {
   "cell_type": "code",
   "execution_count": 26,
   "id": "hindu-rugby",
   "metadata": {
    "execution": {
     "iopub.execute_input": "2021-06-20T16:42:00.202881Z",
     "iopub.status.busy": "2021-06-20T16:42:00.201952Z",
     "iopub.status.idle": "2021-06-20T16:42:00.466357Z",
     "shell.execute_reply": "2021-06-20T16:42:00.466935Z",
     "shell.execute_reply.started": "2021-06-20T16:41:08.226782Z"
    },
    "papermill": {
     "duration": 0.297569,
     "end_time": "2021-06-20T16:42:00.467128",
     "exception": false,
     "start_time": "2021-06-20T16:42:00.169559",
     "status": "completed"
    },
    "tags": []
   },
   "outputs": [
    {
     "name": "stderr",
     "output_type": "stream",
     "text": [
      "/var/folders/6g/07jc7dh93xx_6f0gtc8z08zr0000gn/T/ipykernel_1890/3566126545.py:12: DeprecationWarning: `np.float` is a deprecated alias for the builtin `float`. To silence this warning, use `float` by itself. Doing this will not modify any behavior and is safe. If you specifically wanted the numpy scalar type, use `np.float64` here.\n",
      "Deprecated in NumPy 1.20; for more details and guidance: https://numpy.org/devdocs/release/1.20.0-notes.html#deprecations\n",
      "  oof_pred = np.zeros_like(y, dtype=np.float)\n"
     ]
    },
    {
     "name": "stdout",
     "output_type": "stream",
     "text": [
      "Training until validation scores don't improve for 100 rounds\n",
      "Early stopping, best iteration is:\n",
      "[53]\tvalid_0's rmse: 0.221781\n",
      "fit fold=0  0.081[s]\n",
      "Fold 0 RMSLE: 0.2218\n",
      "\n",
      "Training until validation scores don't improve for 100 rounds\n",
      "Early stopping, best iteration is:\n",
      "[73]\tvalid_0's rmse: 0.204907\n",
      "fit fold=1  0.055[s]\n",
      "Fold 1 RMSLE: 0.2049\n",
      "\n",
      "Training until validation scores don't improve for 100 rounds\n",
      "Early stopping, best iteration is:\n",
      "[21]\tvalid_0's rmse: 0.236401\n",
      "fit fold=2  0.036[s]\n",
      "Fold 2 RMSLE: 0.2364\n",
      "\n",
      "Training until validation scores don't improve for 100 rounds\n",
      "Early stopping, best iteration is:\n",
      "[25]\tvalid_0's rmse: 0.289934\n",
      "fit fold=3  0.043[s]\n",
      "Fold 3 RMSLE: 0.2899\n",
      "\n",
      "Training until validation scores don't improve for 100 rounds\n",
      "Early stopping, best iteration is:\n",
      "[115]\tvalid_0's rmse: 0.21006\n",
      "fit fold=4  0.068[s]\n",
      "Fold 4 RMSLE: 0.2101\n",
      "\n",
      "--------------------------------------------------\n",
      "FINISHED | Whole RMSLE: 0.2345\n"
     ]
    }
   ],
   "source": [
    "from sklearn.model_selection import KFold\n",
    "\n",
    "fold = KFold(n_splits=5, shuffle=True, random_state=71)\n",
    "cv = list(fold.split(train_feat_df, y))\n",
    "oof, models = fit_lgbm(train_feat_df.values, y, cv, params=params, verbose=500)"
   ]
  },
  {
   "cell_type": "code",
   "execution_count": 27,
   "id": "color-watch",
   "metadata": {
    "execution": {
     "iopub.execute_input": "2021-06-20T16:42:00.525791Z",
     "iopub.status.busy": "2021-06-20T16:42:00.525214Z",
     "iopub.status.idle": "2021-06-20T16:42:00.708440Z",
     "shell.execute_reply": "2021-06-20T16:42:00.707772Z",
     "shell.execute_reply.started": "2021-06-20T16:41:08.454128Z"
    },
    "papermill": {
     "duration": 0.213812,
     "end_time": "2021-06-20T16:42:00.708587",
     "exception": false,
     "start_time": "2021-06-20T16:42:00.494775",
     "status": "completed"
    },
    "tags": []
   },
   "outputs": [
    {
     "data": {
      "text/plain": [
       "<matplotlib.collections.PathCollection at 0x7faf5e7aa070>"
      ]
     },
     "execution_count": 27,
     "metadata": {},
     "output_type": "execute_result"
    },
    {
     "data": {
      "image/png": "[encoded data removed]",
      "text/plain": [
       "<Figure size 576x576 with 1 Axes>"
      ]
     },
     "metadata": {
      "needs_background": "light"
     },
     "output_type": "display_data"
    }
   ],
   "source": [
    "fig,ax = plt.subplots(figsize=(8,8))\n",
    "ax.set_xlabel('oof',fontsize=20)\n",
    "ax.set_ylabel('train_y',fontsize=20)\n",
    "ax.scatter(oof,y)"
   ]
  },
  {
   "cell_type": "markdown",
   "id": "intense-philosophy",
   "metadata": {
    "papermill": {
     "duration": 0.028805,
     "end_time": "2021-06-20T16:42:00.766431",
     "exception": false,
     "start_time": "2021-06-20T16:42:00.737626",
     "status": "completed"
    },
    "tags": []
   },
   "source": [
    "# Visualize Importance"
   ]
  },
  {
   "cell_type": "code",
   "execution_count": 28,
   "id": "corrected-reader",
   "metadata": {
    "execution": {
     "iopub.execute_input": "2021-06-20T16:42:00.840105Z",
     "iopub.status.busy": "2021-06-20T16:42:00.836198Z",
     "iopub.status.idle": "2021-06-20T16:42:01.274261Z",
     "shell.execute_reply": "2021-06-20T16:42:01.273567Z",
     "shell.execute_reply.started": "2021-06-20T16:41:08.604660Z"
    },
    "papermill": {
     "duration": 0.480117,
     "end_time": "2021-06-20T16:42:01.274410",
     "exception": false,
     "start_time": "2021-06-20T16:42:00.794293",
     "status": "completed"
    },
    "tags": []
   },
   "outputs": [
    {
     "data": {
      "image/png": "[encoded data removed]",
      "text/plain": [
       "<Figure size 576x432 with 1 Axes>"
      ]
     },
     "metadata": {
      "needs_background": "light"
     },
     "output_type": "display_data"
    }
   ],
   "source": [
    "def visualize_importance(models, feat_train_df):\n",
    "\n",
    "    feature_importance_df = pd.DataFrame()\n",
    "    for i, model in enumerate(models):\n",
    "        _df = pd.DataFrame()\n",
    "        _df['feature_importance'] = model.feature_importances_\n",
    "        _df['column'] = feat_train_df.columns\n",
    "        _df['fold'] = i + 1\n",
    "        feature_importance_df = pd.concat([feature_importance_df, _df], \n",
    "                                          axis=0, ignore_index=True)\n",
    "\n",
    "    order = feature_importance_df.groupby('column')\\\n",
    "        .sum()[['feature_importance']]\\\n",
    "        .sort_values('feature_importance', ascending=False).index[:50]\n",
    "\n",
    "    fig, ax = plt.subplots(figsize=(8, max(6, len(order) * .25)))\n",
    "    sns.boxenplot(data=feature_importance_df, \n",
    "                  x='feature_importance', \n",
    "                  y='column', \n",
    "                  order=order, \n",
    "                  ax=ax, \n",
    "                  palette='viridis', \n",
    "                  orient='h')\n",
    "    ax.tick_params(axis='x', rotation=0)\n",
    "    ax.set_title('Importance')\n",
    "    ax.grid()\n",
    "    fig.tight_layout()\n",
    "    return fig,ax\n",
    "\n",
    "fig, ax = visualize_importance(models, train_feat_df)"
   ]
  },
  {
   "cell_type": "markdown",
   "id": "municipal-delight",
   "metadata": {
    "papermill": {
     "duration": 0.029635,
     "end_time": "2021-06-20T16:42:01.334700",
     "exception": false,
     "start_time": "2021-06-20T16:42:01.305065",
     "status": "completed"
    },
    "tags": []
   },
   "source": [
    "### 'Glucose' is the most imprtant factor for 'Diabetes'."
   ]
  },
  {
   "cell_type": "markdown",
   "id": "moderate-kazakhstan",
   "metadata": {
    "papermill": {
     "duration": 0.028575,
     "end_time": "2021-06-20T16:42:01.393207",
     "exception": false,
     "start_time": "2021-06-20T16:42:01.364632",
     "status": "completed"
    },
    "tags": []
   },
   "source": [
    "# Predict"
   ]
  },
  {
   "cell_type": "code",
   "execution_count": 29,
   "id": "obvious-ontario",
   "metadata": {
    "execution": {
     "iopub.execute_input": "2021-06-20T16:42:01.460358Z",
     "iopub.status.busy": "2021-06-20T16:42:01.459539Z",
     "iopub.status.idle": "2021-06-20T16:42:01.470646Z",
     "shell.execute_reply": "2021-06-20T16:42:01.469584Z",
     "shell.execute_reply.started": "2021-06-20T16:41:09.009224Z"
    },
    "papermill": {
     "duration": 0.046178,
     "end_time": "2021-06-20T16:42:01.470840",
     "exception": false,
     "start_time": "2021-06-20T16:42:01.424662",
     "status": "completed"
    },
    "tags": []
   },
   "outputs": [
    {
     "name": "stdout",
     "output_type": "stream",
     "text": [
      "[0 0 0 0 0 0 0 0 1 0 1 0 0 0 0 0 0 0 0 0 0 0 0 0 0 0 0 0 0 0]\n",
      "[0 0 0 0 0 0 0 0 1 1 1 0 0 0 0 0 0 0 0 0 0 0 0 0 0 0 0 0 0 0]\n"
     ]
    }
   ],
   "source": [
    "pred0 = np.array([model.predict(test_feat_df.values) for model in models])\n",
    "pred1 = np.mean(pred0, axis=0)\n",
    "pred2 = np.where(pred1<0.5,0,1)\n",
    "print(pred2[0:30])\n",
    "print(testy[0:30])"
   ]
  },
  {
   "cell_type": "code",
   "execution_count": 30,
   "id": "adolescent-lotus",
   "metadata": {
    "execution": {
     "iopub.execute_input": "2021-06-20T16:42:01.539379Z",
     "iopub.status.busy": "2021-06-20T16:42:01.538472Z",
     "iopub.status.idle": "2021-06-20T16:42:01.543390Z",
     "shell.execute_reply": "2021-06-20T16:42:01.542723Z",
     "shell.execute_reply.started": "2021-06-20T16:41:09.020283Z"
    },
    "papermill": {
     "duration": 0.04222,
     "end_time": "2021-06-20T16:42:01.543529",
     "exception": false,
     "start_time": "2021-06-20T16:42:01.501309",
     "status": "completed"
    },
    "tags": []
   },
   "outputs": [
    {
     "name": "stdout",
     "output_type": "stream",
     "text": [
      "0.9102564102564102\n"
     ]
    }
   ],
   "source": [
    "from sklearn.metrics import classification_report, log_loss, accuracy_score\n",
    "accuracy=accuracy_score(testy,pred2)\n",
    "print(accuracy)"
   ]
  },
  {
   "cell_type": "code",
   "execution_count": 31,
   "id": "congressional-harrison",
   "metadata": {
    "execution": {
     "iopub.execute_input": "2021-06-20T16:42:01.637797Z",
     "iopub.status.busy": "2021-06-20T16:42:01.628471Z",
     "iopub.status.idle": "2021-06-20T16:42:01.899802Z",
     "shell.execute_reply": "2021-06-20T16:42:01.899293Z",
     "shell.execute_reply.started": "2021-06-20T16:41:09.034725Z"
    },
    "papermill": {
     "duration": 0.326905,
     "end_time": "2021-06-20T16:42:01.899953",
     "exception": false,
     "start_time": "2021-06-20T16:42:01.573048",
     "status": "completed"
    },
    "tags": []
   },
   "outputs": [
    {
     "data": {
      "image/png": "[encoded data removed]",
      "text/plain": [
       "<Figure size 576x576 with 1 Axes>"
      ]
     },
     "metadata": {
      "needs_background": "light"
     },
     "output_type": "display_data"
    }
   ],
   "source": [
    "fig, ax = plt.subplots(figsize=(8,8))\n",
    "sns.histplot(pred1, label='Test Predict', ax=ax, color='black')\n",
    "sns.histplot(oof, label='Train Predict', ax=ax, color='C1')\n",
    "ax.legend()\n",
    "ax.grid()"
   ]
  },
  {
   "cell_type": "code",
   "execution_count": null,
   "id": "blocked-queensland",
   "metadata": {
    "papermill": {
     "duration": 0.030067,
     "end_time": "2021-06-20T16:42:01.960948",
     "exception": false,
     "start_time": "2021-06-20T16:42:01.930881",
     "status": "completed"
    },
    "tags": []
   },
   "outputs": [],
   "source": []
  },
  {
   "cell_type": "code",
   "execution_count": null,
   "id": "enclosed-shoot",
   "metadata": {
    "papermill": {
     "duration": 0.030326,
     "end_time": "2021-06-20T16:42:02.022397",
     "exception": false,
     "start_time": "2021-06-20T16:42:01.992071",
     "status": "completed"
    },
    "tags": []
   },
   "outputs": [],
   "source": []
  }
 ],
 "metadata": {
  "kernelspec": {
   "display_name": "Python 3.9.12 ('base')",
   "language": "python",
   "name": "python3"
  },
  "language_info": {
   "codemirror_mode": {
    "name": "ipython",
    "version": 3
   },
   "file_extension": ".py",
   "mimetype": "text/x-python",
   "name": "python",
   "nbconvert_exporter": "python",
   "pygments_lexer": "ipython3",
   "version": "3.9.12"
  },
  "papermill": {
   "default_parameters": {},
   "duration": 20.836465,
   "end_time": "2021-06-20T16:42:03.420273",
   "environment_variables": {},
   "exception": null,
   "input_path": "__notebook__.ipynb",
   "output_path": "__notebook__.ipynb",
   "parameters": {},
   "start_time": "2021-06-20T16:41:42.583808",
   "version": "2.3.3"
  },
  "vscode": {
   "interpreter": {
    "hash": "40d3a090f54c6569ab1632332b64b2c03c39dcf918b08424e98f38b5ae0af88f"
   }
  }
 },
 "nbformat": 4,
 "nbformat_minor": 5
}
